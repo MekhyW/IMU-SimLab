{
 "cells": [
  {
   "cell_type": "code",
   "execution_count": 145,
   "metadata": {},
   "outputs": [],
   "source": [
    "import pandas as pd\n",
    "\n",
    "df_dance = pd.read_csv('../data/dataset_0.csv')\n",
    "df_idle = pd.read_csv('../data/dataset_1.csv')\n",
    "df_walk = pd.read_csv('../data/dataset_2.csv')\n",
    "df_run = pd.read_csv('../data/dataset_3.csv')\n",
    "df_spin = pd.read_csv('../data/dataset_4.csv')"
   ]
  },
  {
   "cell_type": "code",
   "execution_count": 146,
   "metadata": {},
   "outputs": [],
   "source": [
    "df = pd.concat([df_dance, df_idle, df_walk, df_run, df_spin])\n",
    "df.rename(columns={'Set': 'Label'}, inplace=True)\n",
    "df.drop(columns=['OrientationX_sin', 'OrientationX_cos', 'OrientationY_sin', 'OrientationY_cos', 'OrientationZ_sin', 'OrientationZ_cos'], inplace=True) #Let´s try to use only accelerometer and gyroscope at least for now"
   ]
  },
  {
   "cell_type": "code",
   "execution_count": 147,
   "metadata": {},
   "outputs": [
    {
     "data": {
      "text/html": [
       "<div>\n",
       "<style scoped>\n",
       "    .dataframe tbody tr th:only-of-type {\n",
       "        vertical-align: middle;\n",
       "    }\n",
       "\n",
       "    .dataframe tbody tr th {\n",
       "        vertical-align: top;\n",
       "    }\n",
       "\n",
       "    .dataframe thead th {\n",
       "        text-align: right;\n",
       "    }\n",
       "</style>\n",
       "<table border=\"1\" class=\"dataframe\">\n",
       "  <thead>\n",
       "    <tr style=\"text-align: right;\">\n",
       "      <th></th>\n",
       "      <th>AnimIndex</th>\n",
       "      <th>AccelerationX</th>\n",
       "      <th>AccelerationY</th>\n",
       "      <th>AccelerationZ</th>\n",
       "      <th>GyroscopeX</th>\n",
       "      <th>GyroscopeY</th>\n",
       "      <th>GyroscopeZ</th>\n",
       "    </tr>\n",
       "  </thead>\n",
       "  <tbody>\n",
       "    <tr>\n",
       "      <th>count</th>\n",
       "      <td>100885.000000</td>\n",
       "      <td>100885.000000</td>\n",
       "      <td>100885.000000</td>\n",
       "      <td>100885.000000</td>\n",
       "      <td>100885.000000</td>\n",
       "      <td>100885.000000</td>\n",
       "      <td>100885.000000</td>\n",
       "    </tr>\n",
       "    <tr>\n",
       "      <th>mean</th>\n",
       "      <td>22.773296</td>\n",
       "      <td>0.512160</td>\n",
       "      <td>0.602361</td>\n",
       "      <td>-13.880446</td>\n",
       "      <td>0.021490</td>\n",
       "      <td>-0.134352</td>\n",
       "      <td>0.027093</td>\n",
       "    </tr>\n",
       "    <tr>\n",
       "      <th>std</th>\n",
       "      <td>13.720834</td>\n",
       "      <td>351.392805</td>\n",
       "      <td>80.974049</td>\n",
       "      <td>725.671497</td>\n",
       "      <td>1.952378</td>\n",
       "      <td>3.457387</td>\n",
       "      <td>3.041067</td>\n",
       "    </tr>\n",
       "    <tr>\n",
       "      <th>min</th>\n",
       "      <td>0.000000</td>\n",
       "      <td>-12158.802680</td>\n",
       "      <td>-3558.359820</td>\n",
       "      <td>-20438.724145</td>\n",
       "      <td>-69.101625</td>\n",
       "      <td>-137.498576</td>\n",
       "      <td>-157.101248</td>\n",
       "    </tr>\n",
       "    <tr>\n",
       "      <th>25%</th>\n",
       "      <td>11.000000</td>\n",
       "      <td>-5.383237</td>\n",
       "      <td>-4.924168</td>\n",
       "      <td>-38.912660</td>\n",
       "      <td>-0.159503</td>\n",
       "      <td>-0.219591</td>\n",
       "      <td>-0.138246</td>\n",
       "    </tr>\n",
       "    <tr>\n",
       "      <th>50%</th>\n",
       "      <td>23.000000</td>\n",
       "      <td>0.001952</td>\n",
       "      <td>-0.018100</td>\n",
       "      <td>-0.196599</td>\n",
       "      <td>-0.004404</td>\n",
       "      <td>-0.004562</td>\n",
       "      <td>0.004975</td>\n",
       "    </tr>\n",
       "    <tr>\n",
       "      <th>75%</th>\n",
       "      <td>33.000000</td>\n",
       "      <td>5.571368</td>\n",
       "      <td>4.750234</td>\n",
       "      <td>1.819372</td>\n",
       "      <td>0.143643</td>\n",
       "      <td>0.177220</td>\n",
       "      <td>0.158001</td>\n",
       "    </tr>\n",
       "    <tr>\n",
       "      <th>max</th>\n",
       "      <td>53.000000</td>\n",
       "      <td>12075.459636</td>\n",
       "      <td>3520.777847</td>\n",
       "      <td>20343.089371</td>\n",
       "      <td>74.797051</td>\n",
       "      <td>125.485251</td>\n",
       "      <td>156.235443</td>\n",
       "    </tr>\n",
       "  </tbody>\n",
       "</table>\n",
       "</div>"
      ],
      "text/plain": [
       "           AnimIndex  AccelerationX  AccelerationY  AccelerationZ  \\\n",
       "count  100885.000000  100885.000000  100885.000000  100885.000000   \n",
       "mean       22.773296       0.512160       0.602361     -13.880446   \n",
       "std        13.720834     351.392805      80.974049     725.671497   \n",
       "min         0.000000  -12158.802680   -3558.359820  -20438.724145   \n",
       "25%        11.000000      -5.383237      -4.924168     -38.912660   \n",
       "50%        23.000000       0.001952      -0.018100      -0.196599   \n",
       "75%        33.000000       5.571368       4.750234       1.819372   \n",
       "max        53.000000   12075.459636    3520.777847   20343.089371   \n",
       "\n",
       "          GyroscopeX     GyroscopeY     GyroscopeZ  \n",
       "count  100885.000000  100885.000000  100885.000000  \n",
       "mean        0.021490      -0.134352       0.027093  \n",
       "std         1.952378       3.457387       3.041067  \n",
       "min       -69.101625    -137.498576    -157.101248  \n",
       "25%        -0.159503      -0.219591      -0.138246  \n",
       "50%        -0.004404      -0.004562       0.004975  \n",
       "75%         0.143643       0.177220       0.158001  \n",
       "max        74.797051     125.485251     156.235443  "
      ]
     },
     "execution_count": 147,
     "metadata": {},
     "output_type": "execute_result"
    }
   ],
   "source": [
    "df.describe()"
   ]
  },
  {
   "cell_type": "code",
   "execution_count": 148,
   "metadata": {},
   "outputs": [],
   "source": [
    "from sklearn.preprocessing import StandardScaler\n",
    "\n",
    "feature_cols = ['AccelerationX', 'AccelerationY', 'AccelerationZ', 'GyroscopeX', 'GyroscopeY', 'GyroscopeZ']\n",
    "scaler = StandardScaler()\n",
    "df[feature_cols] = scaler.fit_transform(df[feature_cols])"
   ]
  },
  {
   "cell_type": "code",
   "execution_count": 149,
   "metadata": {},
   "outputs": [],
   "source": [
    "import numpy as np\n",
    "\n",
    "def create_sliding_windows(data, label_col, window_size, step_size):\n",
    "    sequences = []\n",
    "    labels = []\n",
    "    for start in range(0, len(data) - window_size + 1, step_size):\n",
    "        end = start + window_size\n",
    "        window = data.iloc[start:end]\n",
    "        sequences.append(window[feature_cols].values)\n",
    "        label = window[label_col].mode()[0]\n",
    "        labels.append(label)\n",
    "    return np.array(sequences), np.array(labels)\n",
    "\n",
    "window_size = 100\n",
    "step_size = 25\n",
    "X, y = create_sliding_windows(df, label_col='Label', window_size=window_size, step_size=step_size)"
   ]
  },
  {
   "cell_type": "code",
   "execution_count": 150,
   "metadata": {},
   "outputs": [],
   "source": [
    "from sklearn.model_selection import train_test_split\n",
    "\n",
    "train_indices, temp_indices = train_test_split(df['AnimIndex'].unique(), test_size=0.2, random_state=42)\n",
    "val_indices, test_indices = train_test_split(temp_indices, test_size=0.5, random_state=42)\n",
    "\n",
    "train_data = df[df['AnimIndex'].isin(train_indices)]\n",
    "val_data = df[df['AnimIndex'].isin(val_indices)]\n",
    "test_data = df[df['AnimIndex'].isin(test_indices)]\n",
    "\n",
    "X_train, y_train = create_sliding_windows(train_data, label_col='Label', window_size=window_size, step_size=step_size)\n",
    "X_val, y_val = create_sliding_windows(val_data, label_col='Label', window_size=window_size, step_size=step_size)\n",
    "X_test, y_test = create_sliding_windows(test_data, label_col='Label', window_size=window_size, step_size=step_size)"
   ]
  },
  {
   "cell_type": "code",
   "execution_count": 151,
   "metadata": {},
   "outputs": [],
   "source": [
    "from sklearn.preprocessing import LabelEncoder\n",
    "\n",
    "label_encoder = LabelEncoder()\n",
    "y_train = label_encoder.fit_transform(y_train)\n",
    "y_val = label_encoder.transform(y_val)\n",
    "y_test = label_encoder.transform(y_test)"
   ]
  },
  {
   "cell_type": "code",
   "execution_count": 152,
   "metadata": {},
   "outputs": [],
   "source": [
    "from tensorflow.keras.utils import to_categorical\n",
    "\n",
    "y_train = to_categorical(y_train)\n",
    "y_val = to_categorical(y_val)\n",
    "y_test = to_categorical(y_test)"
   ]
  },
  {
   "cell_type": "code",
   "execution_count": 153,
   "metadata": {},
   "outputs": [
    {
     "name": "stdout",
     "output_type": "stream",
     "text": [
      "Model: \"sequential_12\"\n",
      "_________________________________________________________________\n",
      " Layer (type)                Output Shape              Param #   \n",
      "=================================================================\n",
      " lstm_23 (LSTM)              (None, 100, 128)          69120     \n",
      "                                                                 \n",
      " batch_normalization_26 (Bat  (None, 100, 128)         512       \n",
      " chNormalization)                                                \n",
      "                                                                 \n",
      " dropout_32 (Dropout)        (None, 100, 128)          0         \n",
      "                                                                 \n",
      " lstm_24 (LSTM)              (None, 64)                49408     \n",
      "                                                                 \n",
      " batch_normalization_27 (Bat  (None, 64)               256       \n",
      " chNormalization)                                                \n",
      "                                                                 \n",
      " dropout_33 (Dropout)        (None, 64)                0         \n",
      "                                                                 \n",
      " dense_33 (Dense)            (None, 64)                4160      \n",
      "                                                                 \n",
      " dense_34 (Dense)            (None, 5)                 325       \n",
      "                                                                 \n",
      "=================================================================\n",
      "Total params: 123,781\n",
      "Trainable params: 123,397\n",
      "Non-trainable params: 384\n",
      "_________________________________________________________________\n"
     ]
    }
   ],
   "source": [
    "from tensorflow.keras.optimizers import Adam\n",
    "from tensorflow.keras.models import Sequential\n",
    "from tensorflow.keras.layers import LSTM, Dense, Dropout, BatchNormalization\n",
    "\n",
    "model = Sequential([\n",
    "    LSTM(128, input_shape=(window_size, len(feature_cols)), return_sequences=True),\n",
    "    BatchNormalization(),\n",
    "    Dropout(0.3),\n",
    "    LSTM(64, return_sequences=False),\n",
    "    BatchNormalization(),\n",
    "    Dropout(0.3),\n",
    "    Dense(64, activation='relu'),\n",
    "    Dense(5, activation='softmax')\n",
    "])\n",
    "model.compile(optimizer=Adam(learning_rate=0.0001), loss='categorical_crossentropy', metrics=['accuracy'])\n",
    "model.summary()"
   ]
  },
  {
   "cell_type": "code",
   "execution_count": 154,
   "metadata": {},
   "outputs": [
    {
     "name": "stdout",
     "output_type": "stream",
     "text": [
      "Epoch 1/100\n",
      "206/206 [==============================] - 15s 60ms/step - loss: 1.5016 - accuracy: 0.4234 - val_loss: 1.4608 - val_accuracy: 0.5517 - lr: 1.0000e-04\n",
      "Epoch 2/100\n",
      "206/206 [==============================] - 12s 56ms/step - loss: 1.1728 - accuracy: 0.5440 - val_loss: 1.0703 - val_accuracy: 0.6121 - lr: 1.0000e-04\n",
      "Epoch 3/100\n",
      "206/206 [==============================] - 11s 55ms/step - loss: 1.0317 - accuracy: 0.6001 - val_loss: 0.8096 - val_accuracy: 0.6724 - lr: 1.0000e-04\n",
      "Epoch 4/100\n",
      "206/206 [==============================] - 11s 54ms/step - loss: 0.9092 - accuracy: 0.6473 - val_loss: 0.7353 - val_accuracy: 0.7270 - lr: 1.0000e-04\n",
      "Epoch 5/100\n",
      "206/206 [==============================] - 11s 54ms/step - loss: 0.8462 - accuracy: 0.6753 - val_loss: 0.6972 - val_accuracy: 0.7414 - lr: 1.0000e-04\n",
      "Epoch 6/100\n",
      "206/206 [==============================] - 11s 54ms/step - loss: 0.7771 - accuracy: 0.7103 - val_loss: 0.6490 - val_accuracy: 0.7787 - lr: 1.0000e-04\n",
      "Epoch 7/100\n",
      "206/206 [==============================] - 11s 54ms/step - loss: 0.7303 - accuracy: 0.7268 - val_loss: 0.5628 - val_accuracy: 0.7931 - lr: 1.0000e-04\n",
      "Epoch 8/100\n",
      "206/206 [==============================] - 11s 54ms/step - loss: 0.6247 - accuracy: 0.7685 - val_loss: 0.5594 - val_accuracy: 0.8132 - lr: 1.0000e-04\n",
      "Epoch 9/100\n",
      "206/206 [==============================] - 11s 53ms/step - loss: 0.6294 - accuracy: 0.7691 - val_loss: 0.5668 - val_accuracy: 0.8161 - lr: 1.0000e-04\n",
      "Epoch 10/100\n",
      "206/206 [==============================] - 11s 53ms/step - loss: 0.5458 - accuracy: 0.8014 - val_loss: 0.5643 - val_accuracy: 0.8247 - lr: 1.0000e-04\n",
      "Epoch 11/100\n",
      "206/206 [==============================] - 11s 53ms/step - loss: 0.5420 - accuracy: 0.8063 - val_loss: 0.5128 - val_accuracy: 0.8046 - lr: 1.0000e-04\n",
      "Epoch 12/100\n",
      "206/206 [==============================] - 11s 55ms/step - loss: 0.5690 - accuracy: 0.7941 - val_loss: 0.5342 - val_accuracy: 0.8420 - lr: 1.0000e-04\n",
      "Epoch 13/100\n",
      "206/206 [==============================] - 11s 52ms/step - loss: 0.4783 - accuracy: 0.8294 - val_loss: 0.5236 - val_accuracy: 0.8333 - lr: 1.0000e-04\n",
      "Epoch 14/100\n",
      "206/206 [==============================] - 11s 53ms/step - loss: 0.4866 - accuracy: 0.8285 - val_loss: 0.5358 - val_accuracy: 0.8391 - lr: 1.0000e-04\n",
      "Epoch 15/100\n",
      "206/206 [==============================] - 11s 53ms/step - loss: 0.4554 - accuracy: 0.8422 - val_loss: 0.3904 - val_accuracy: 0.8563 - lr: 1.0000e-04\n",
      "Epoch 16/100\n",
      "206/206 [==============================] - 11s 53ms/step - loss: 0.4795 - accuracy: 0.8392 - val_loss: 0.4689 - val_accuracy: 0.8534 - lr: 1.0000e-04\n",
      "Epoch 17/100\n",
      "206/206 [==============================] - 11s 53ms/step - loss: 0.4143 - accuracy: 0.8608 - val_loss: 0.5637 - val_accuracy: 0.8362 - lr: 1.0000e-04\n",
      "Epoch 18/100\n",
      "206/206 [==============================] - 12s 58ms/step - loss: 0.3914 - accuracy: 0.8678 - val_loss: 0.4210 - val_accuracy: 0.8678 - lr: 1.0000e-04\n",
      "Epoch 19/100\n",
      "206/206 [==============================] - 11s 55ms/step - loss: 0.3938 - accuracy: 0.8666 - val_loss: 0.5556 - val_accuracy: 0.8391 - lr: 1.0000e-04\n",
      "Epoch 20/100\n",
      "206/206 [==============================] - 11s 55ms/step - loss: 0.3472 - accuracy: 0.8846 - val_loss: 0.4963 - val_accuracy: 0.8534 - lr: 1.0000e-04\n",
      "Epoch 21/100\n",
      "206/206 [==============================] - 11s 55ms/step - loss: 0.3353 - accuracy: 0.8852 - val_loss: 0.4546 - val_accuracy: 0.8736 - lr: 2.0000e-05\n",
      "Epoch 22/100\n",
      "206/206 [==============================] - 11s 55ms/step - loss: 0.3356 - accuracy: 0.8916 - val_loss: 0.4687 - val_accuracy: 0.8736 - lr: 2.0000e-05\n",
      "Epoch 23/100\n",
      "206/206 [==============================] - 11s 55ms/step - loss: 0.3238 - accuracy: 0.8961 - val_loss: 0.4573 - val_accuracy: 0.8678 - lr: 2.0000e-05\n",
      "Epoch 24/100\n",
      "206/206 [==============================] - 11s 55ms/step - loss: 0.3215 - accuracy: 0.8989 - val_loss: 0.4714 - val_accuracy: 0.8534 - lr: 2.0000e-05\n",
      "Epoch 25/100\n",
      "206/206 [==============================] - 13s 61ms/step - loss: 0.3235 - accuracy: 0.8949 - val_loss: 0.4528 - val_accuracy: 0.8621 - lr: 2.0000e-05\n"
     ]
    }
   ],
   "source": [
    "from tensorflow.keras.callbacks import EarlyStopping, ReduceLROnPlateau\n",
    "\n",
    "history = model.fit(X_train, y_train, epochs=100, batch_size=16, validation_data=(X_val, y_val), \n",
    "                    callbacks=[EarlyStopping(monitor='val_loss', patience=10, restore_best_weights=True), ReduceLROnPlateau(monitor='val_loss', factor=0.2, patience=5, min_lr=1e-6)])"
   ]
  },
  {
   "cell_type": "code",
   "execution_count": 155,
   "metadata": {},
   "outputs": [
    {
     "data": {
      "image/png": "[encoded data removed]",
      "text/plain": [
       "<Figure size 1200x400 with 2 Axes>"
      ]
     },
     "metadata": {},
     "output_type": "display_data"
    }
   ],
   "source": [
    "import matplotlib.pyplot as plt\n",
    "\n",
    "# Plot loss\n",
    "plt.figure(figsize=(12, 4))\n",
    "plt.subplot(1, 2, 1)\n",
    "plt.plot(history.history['loss'], label='Training Loss')\n",
    "plt.plot(history.history['val_loss'], label='Validation Loss')\n",
    "plt.title('Model Loss')\n",
    "plt.xlabel('Epoch')\n",
    "plt.ylabel('Loss')\n",
    "plt.legend()\n",
    "\n",
    "# Plot accuracy\n",
    "plt.subplot(1, 2, 2)\n",
    "plt.plot(history.history['accuracy'], label='Training Accuracy')\n",
    "plt.plot(history.history['val_accuracy'], label='Validation Accuracy')\n",
    "plt.title('Model Accuracy')\n",
    "plt.xlabel('Epoch')\n",
    "plt.ylabel('Accuracy')\n",
    "plt.legend()\n",
    "\n",
    "plt.tight_layout()\n",
    "plt.show()"
   ]
  },
  {
   "cell_type": "code",
   "execution_count": 156,
   "metadata": {},
   "outputs": [
    {
     "name": "stdout",
     "output_type": "stream",
     "text": [
      "13/13 [==============================] - 0s 34ms/step - loss: 0.6077 - accuracy: 0.8452\n",
      "Test Loss: 0.6077, Test Accuracy: 0.8452\n"
     ]
    }
   ],
   "source": [
    "test_loss, test_acc = model.evaluate(X_test, y_test)\n",
    "print(f'Test Loss: {test_loss:.4f}, Test Accuracy: {test_acc:.4f}')"
   ]
  },
  {
   "cell_type": "code",
   "execution_count": 159,
   "metadata": {},
   "outputs": [],
   "source": [
    "model.save('../models/imu_rnn_classifier.keras')"
   ]
  }
 ],
 "metadata": {
  "kernelspec": {
   "display_name": "Python 3",
   "language": "python",
   "name": "python3"
  },
  "language_info": {
   "codemirror_mode": {
    "name": "ipython",
    "version": 3
   },
   "file_extension": ".py",
   "mimetype": "text/x-python",
   "name": "python",
   "nbconvert_exporter": "python",
   "pygments_lexer": "ipython3",
   "version": "3.10.11"
  }
 },
 "nbformat": 4,
 "nbformat_minor": 2
}
