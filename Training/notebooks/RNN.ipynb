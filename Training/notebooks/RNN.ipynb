{
 "cells": [
  {
   "cell_type": "code",
   "execution_count": 55,
   "metadata": {},
   "outputs": [],
   "source": [
    "import pandas as pd\n",
    "\n",
    "df_dance = pd.read_csv('../data/dataset_0.csv')\n",
    "df_idle = pd.read_csv('../data/dataset_1.csv')\n",
    "df_walk = pd.read_csv('../data/dataset_2.csv')\n",
    "df_run = pd.read_csv('../data/dataset_3.csv')\n",
    "df_spin = pd.read_csv('../data/dataset_4.csv')"
   ]
  },
  {
   "cell_type": "code",
   "execution_count": 56,
   "metadata": {},
   "outputs": [],
   "source": [
    "df = pd.concat([df_dance, df_idle, df_walk, df_run, df_spin])\n",
    "df.rename(columns={'Set': 'Label'}, inplace=True)\n",
    "df.drop(columns=['OrientationX_sin', 'OrientationX_cos', 'OrientationY_sin', 'OrientationY_cos', 'OrientationZ_sin', 'OrientationZ_cos'], inplace=True) #Let´s try to use only accelerometer and gyroscope at least for now"
   ]
  },
  {
   "cell_type": "code",
   "execution_count": 57,
   "metadata": {},
   "outputs": [
    {
     "data": {
      "text/html": [
       "<div>\n",
       "<style scoped>\n",
       "    .dataframe tbody tr th:only-of-type {\n",
       "        vertical-align: middle;\n",
       "    }\n",
       "\n",
       "    .dataframe tbody tr th {\n",
       "        vertical-align: top;\n",
       "    }\n",
       "\n",
       "    .dataframe thead th {\n",
       "        text-align: right;\n",
       "    }\n",
       "</style>\n",
       "<table border=\"1\" class=\"dataframe\">\n",
       "  <thead>\n",
       "    <tr style=\"text-align: right;\">\n",
       "      <th></th>\n",
       "      <th>AnimIndex</th>\n",
       "      <th>AccelerationX</th>\n",
       "      <th>AccelerationY</th>\n",
       "      <th>AccelerationZ</th>\n",
       "      <th>GyroscopeX</th>\n",
       "      <th>GyroscopeY</th>\n",
       "      <th>GyroscopeZ</th>\n",
       "    </tr>\n",
       "  </thead>\n",
       "  <tbody>\n",
       "    <tr>\n",
       "      <th>count</th>\n",
       "      <td>100885.000000</td>\n",
       "      <td>100885.000000</td>\n",
       "      <td>100885.000000</td>\n",
       "      <td>100885.000000</td>\n",
       "      <td>100885.000000</td>\n",
       "      <td>100885.000000</td>\n",
       "      <td>100885.000000</td>\n",
       "    </tr>\n",
       "    <tr>\n",
       "      <th>mean</th>\n",
       "      <td>22.773296</td>\n",
       "      <td>0.512160</td>\n",
       "      <td>0.602361</td>\n",
       "      <td>-13.880446</td>\n",
       "      <td>0.021490</td>\n",
       "      <td>-0.134352</td>\n",
       "      <td>0.027093</td>\n",
       "    </tr>\n",
       "    <tr>\n",
       "      <th>std</th>\n",
       "      <td>13.720834</td>\n",
       "      <td>351.392805</td>\n",
       "      <td>80.974049</td>\n",
       "      <td>725.671497</td>\n",
       "      <td>1.952378</td>\n",
       "      <td>3.457387</td>\n",
       "      <td>3.041067</td>\n",
       "    </tr>\n",
       "    <tr>\n",
       "      <th>min</th>\n",
       "      <td>0.000000</td>\n",
       "      <td>-12158.802680</td>\n",
       "      <td>-3558.359820</td>\n",
       "      <td>-20438.724145</td>\n",
       "      <td>-69.101625</td>\n",
       "      <td>-137.498576</td>\n",
       "      <td>-157.101248</td>\n",
       "    </tr>\n",
       "    <tr>\n",
       "      <th>25%</th>\n",
       "      <td>11.000000</td>\n",
       "      <td>-5.383237</td>\n",
       "      <td>-4.924168</td>\n",
       "      <td>-38.912660</td>\n",
       "      <td>-0.159503</td>\n",
       "      <td>-0.219591</td>\n",
       "      <td>-0.138246</td>\n",
       "    </tr>\n",
       "    <tr>\n",
       "      <th>50%</th>\n",
       "      <td>23.000000</td>\n",
       "      <td>0.001952</td>\n",
       "      <td>-0.018100</td>\n",
       "      <td>-0.196599</td>\n",
       "      <td>-0.004404</td>\n",
       "      <td>-0.004562</td>\n",
       "      <td>0.004975</td>\n",
       "    </tr>\n",
       "    <tr>\n",
       "      <th>75%</th>\n",
       "      <td>33.000000</td>\n",
       "      <td>5.571368</td>\n",
       "      <td>4.750234</td>\n",
       "      <td>1.819372</td>\n",
       "      <td>0.143643</td>\n",
       "      <td>0.177220</td>\n",
       "      <td>0.158001</td>\n",
       "    </tr>\n",
       "    <tr>\n",
       "      <th>max</th>\n",
       "      <td>53.000000</td>\n",
       "      <td>12075.459636</td>\n",
       "      <td>3520.777847</td>\n",
       "      <td>20343.089371</td>\n",
       "      <td>74.797051</td>\n",
       "      <td>125.485251</td>\n",
       "      <td>156.235443</td>\n",
       "    </tr>\n",
       "  </tbody>\n",
       "</table>\n",
       "</div>"
      ],
      "text/plain": [
       "           AnimIndex  AccelerationX  AccelerationY  AccelerationZ  \\\n",
       "count  100885.000000  100885.000000  100885.000000  100885.000000   \n",
       "mean       22.773296       0.512160       0.602361     -13.880446   \n",
       "std        13.720834     351.392805      80.974049     725.671497   \n",
       "min         0.000000  -12158.802680   -3558.359820  -20438.724145   \n",
       "25%        11.000000      -5.383237      -4.924168     -38.912660   \n",
       "50%        23.000000       0.001952      -0.018100      -0.196599   \n",
       "75%        33.000000       5.571368       4.750234       1.819372   \n",
       "max        53.000000   12075.459636    3520.777847   20343.089371   \n",
       "\n",
       "          GyroscopeX     GyroscopeY     GyroscopeZ  \n",
       "count  100885.000000  100885.000000  100885.000000  \n",
       "mean        0.021490      -0.134352       0.027093  \n",
       "std         1.952378       3.457387       3.041067  \n",
       "min       -69.101625    -137.498576    -157.101248  \n",
       "25%        -0.159503      -0.219591      -0.138246  \n",
       "50%        -0.004404      -0.004562       0.004975  \n",
       "75%         0.143643       0.177220       0.158001  \n",
       "max        74.797051     125.485251     156.235443  "
      ]
     },
     "execution_count": 57,
     "metadata": {},
     "output_type": "execute_result"
    }
   ],
   "source": [
    "df.describe()"
   ]
  },
  {
   "cell_type": "code",
   "execution_count": 58,
   "metadata": {},
   "outputs": [],
   "source": [
    "from sklearn.preprocessing import StandardScaler\n",
    "\n",
    "feature_cols = ['AccelerationX', 'AccelerationY', 'AccelerationZ', 'GyroscopeX', 'GyroscopeY', 'GyroscopeZ']\n",
    "scaler = StandardScaler()\n",
    "df[feature_cols] = scaler.fit_transform(df[feature_cols])"
   ]
  },
  {
   "cell_type": "code",
   "execution_count": 59,
   "metadata": {},
   "outputs": [],
   "source": [
    "import numpy as np\n",
    "\n",
    "def create_sliding_windows(data, label_col, window_size, step_size):\n",
    "    sequences = []\n",
    "    labels = []\n",
    "    for start in range(0, len(data) - window_size + 1, step_size):\n",
    "        end = start + window_size\n",
    "        window = data.iloc[start:end]\n",
    "        sequences.append(window[feature_cols].values)\n",
    "        label = window[label_col].mode()[0]\n",
    "        labels.append(label)\n",
    "    return np.array(sequences), np.array(labels)\n",
    "\n",
    "window_size = 100\n",
    "step_size = 25\n",
    "X, y = create_sliding_windows(df, label_col='Label', window_size=window_size, step_size=step_size)"
   ]
  },
  {
   "cell_type": "code",
   "execution_count": 60,
   "metadata": {},
   "outputs": [],
   "source": [
    "from sklearn.model_selection import train_test_split\n",
    "\n",
    "train_indices, temp_indices = train_test_split(df['AnimIndex'].unique(), test_size=0.3, random_state=42)\n",
    "val_indices, test_indices = train_test_split(temp_indices, test_size=0.5, random_state=42)\n",
    "\n",
    "train_data = df[df['AnimIndex'].isin(train_indices)]\n",
    "val_data = df[df['AnimIndex'].isin(val_indices)]\n",
    "test_data = df[df['AnimIndex'].isin(test_indices)]\n",
    "\n",
    "X_train, y_train = create_sliding_windows(train_data, label_col='Label', window_size=window_size, step_size=step_size)\n",
    "X_val, y_val = create_sliding_windows(val_data, label_col='Label', window_size=window_size, step_size=step_size)\n",
    "X_test, y_test = create_sliding_windows(test_data, label_col='Label', window_size=window_size, step_size=step_size)"
   ]
  },
  {
   "cell_type": "code",
   "execution_count": 61,
   "metadata": {},
   "outputs": [],
   "source": [
    "from sklearn.preprocessing import LabelEncoder\n",
    "\n",
    "label_encoder = LabelEncoder()\n",
    "y_train = label_encoder.fit_transform(y_train)\n",
    "y_val = label_encoder.transform(y_val)\n",
    "y_test = label_encoder.transform(y_test)"
   ]
  },
  {
   "cell_type": "code",
   "execution_count": 62,
   "metadata": {},
   "outputs": [],
   "source": [
    "from tensorflow.keras.utils import to_categorical\n",
    "\n",
    "y_train = to_categorical(y_train)\n",
    "y_val = to_categorical(y_val)\n",
    "y_test = to_categorical(y_test)"
   ]
  },
  {
   "cell_type": "code",
   "execution_count": 63,
   "metadata": {},
   "outputs": [
    {
     "name": "stdout",
     "output_type": "stream",
     "text": [
      "Model: \"sequential_5\"\n",
      "_________________________________________________________________\n",
      " Layer (type)                Output Shape              Param #   \n",
      "=================================================================\n",
      " lstm_5 (LSTM)               (None, 64)                18176     \n",
      "                                                                 \n",
      " dense_10 (Dense)            (None, 64)                4160      \n",
      "                                                                 \n",
      " dense_11 (Dense)            (None, 5)                 325       \n",
      "                                                                 \n",
      "=================================================================\n",
      "Total params: 22,661\n",
      "Trainable params: 22,661\n",
      "Non-trainable params: 0\n",
      "_________________________________________________________________\n"
     ]
    }
   ],
   "source": [
    "from tensorflow.keras.models import Sequential\n",
    "from tensorflow.keras.layers import LSTM, Dense\n",
    "from tensorflow.keras.callbacks import EarlyStopping\n",
    "\n",
    "model = Sequential([\n",
    "    LSTM(64, input_shape=(window_size, len(feature_cols)), return_sequences=False),\n",
    "    Dense(64, activation='relu'),\n",
    "    Dense(5, activation='softmax')\n",
    "])\n",
    "model.compile(optimizer='adam', loss='categorical_crossentropy', metrics=['accuracy'])\n",
    "model.summary()"
   ]
  },
  {
   "cell_type": "code",
   "execution_count": 64,
   "metadata": {},
   "outputs": [
    {
     "name": "stdout",
     "output_type": "stream",
     "text": [
      "Epoch 1/100\n",
      "44/44 [==============================] - 3s 44ms/step - loss: 1.4729 - accuracy: 0.4071 - val_loss: 1.1752 - val_accuracy: 0.5943\n",
      "Epoch 2/100\n",
      "44/44 [==============================] - 2s 37ms/step - loss: 1.0929 - accuracy: 0.5757 - val_loss: 0.9368 - val_accuracy: 0.6778\n",
      "Epoch 3/100\n",
      "44/44 [==============================] - 2s 37ms/step - loss: 1.0003 - accuracy: 0.6126 - val_loss: 0.9669 - val_accuracy: 0.6110\n",
      "Epoch 4/100\n",
      "44/44 [==============================] - 2s 37ms/step - loss: 0.9089 - accuracy: 0.6420 - val_loss: 0.7240 - val_accuracy: 0.7245\n",
      "Epoch 5/100\n",
      "44/44 [==============================] - 2s 36ms/step - loss: 0.7839 - accuracy: 0.6992 - val_loss: 0.6509 - val_accuracy: 0.7696\n",
      "Epoch 6/100\n",
      "44/44 [==============================] - 2s 36ms/step - loss: 0.7244 - accuracy: 0.7275 - val_loss: 0.6097 - val_accuracy: 0.8047\n",
      "Epoch 7/100\n",
      "44/44 [==============================] - 2s 36ms/step - loss: 0.6819 - accuracy: 0.7444 - val_loss: 0.5592 - val_accuracy: 0.8447\n",
      "Epoch 8/100\n",
      "44/44 [==============================] - 2s 35ms/step - loss: 0.6968 - accuracy: 0.7379 - val_loss: 0.5773 - val_accuracy: 0.8180\n",
      "Epoch 9/100\n",
      "44/44 [==============================] - 2s 36ms/step - loss: 0.5986 - accuracy: 0.7866 - val_loss: 0.6131 - val_accuracy: 0.8197\n",
      "Epoch 10/100\n",
      "44/44 [==============================] - 2s 36ms/step - loss: 0.5092 - accuracy: 0.8267 - val_loss: 0.4834 - val_accuracy: 0.8414\n",
      "Epoch 11/100\n",
      "44/44 [==============================] - 2s 36ms/step - loss: 0.4239 - accuracy: 0.8564 - val_loss: 0.3833 - val_accuracy: 0.8698\n",
      "Epoch 12/100\n",
      "44/44 [==============================] - 2s 36ms/step - loss: 0.3895 - accuracy: 0.8690 - val_loss: 0.3787 - val_accuracy: 0.8948\n",
      "Epoch 13/100\n",
      "44/44 [==============================] - 2s 35ms/step - loss: 0.3783 - accuracy: 0.8722 - val_loss: 0.4731 - val_accuracy: 0.8097\n",
      "Epoch 14/100\n",
      "44/44 [==============================] - 2s 36ms/step - loss: 0.3621 - accuracy: 0.8740 - val_loss: 0.3525 - val_accuracy: 0.8982\n",
      "Epoch 15/100\n",
      "44/44 [==============================] - 2s 36ms/step - loss: 0.2731 - accuracy: 0.9130 - val_loss: 0.3727 - val_accuracy: 0.8765\n",
      "Epoch 16/100\n",
      "44/44 [==============================] - 2s 35ms/step - loss: 0.3816 - accuracy: 0.8912 - val_loss: 0.5762 - val_accuracy: 0.8431\n",
      "Epoch 17/100\n",
      "44/44 [==============================] - 2s 38ms/step - loss: 0.3547 - accuracy: 0.8768 - val_loss: 0.4492 - val_accuracy: 0.8531\n",
      "Epoch 18/100\n",
      "44/44 [==============================] - 2s 40ms/step - loss: 0.2629 - accuracy: 0.9148 - val_loss: 0.3608 - val_accuracy: 0.8932\n",
      "Epoch 19/100\n",
      "44/44 [==============================] - 2s 40ms/step - loss: 0.2419 - accuracy: 0.9255 - val_loss: 0.4902 - val_accuracy: 0.8748\n",
      "Epoch 20/100\n",
      "44/44 [==============================] - 2s 37ms/step - loss: 0.2304 - accuracy: 0.9216 - val_loss: 0.5184 - val_accuracy: 0.8715\n",
      "Epoch 21/100\n",
      "44/44 [==============================] - 2s 38ms/step - loss: 0.1994 - accuracy: 0.9348 - val_loss: 0.3688 - val_accuracy: 0.8915\n",
      "Epoch 22/100\n",
      "44/44 [==============================] - 2s 40ms/step - loss: 0.2929 - accuracy: 0.8951 - val_loss: 0.3637 - val_accuracy: 0.8932\n",
      "Epoch 23/100\n",
      "44/44 [==============================] - 2s 46ms/step - loss: 0.2039 - accuracy: 0.9288 - val_loss: 0.3788 - val_accuracy: 0.9048\n",
      "Epoch 24/100\n",
      "44/44 [==============================] - 2s 41ms/step - loss: 0.2994 - accuracy: 0.9023 - val_loss: 0.4297 - val_accuracy: 0.8948\n"
     ]
    }
   ],
   "source": [
    "history = model.fit(X_train, y_train, epochs=100, batch_size=64, validation_data=(X_val, y_val), callbacks=[EarlyStopping(monitor='val_loss', patience=10, restore_best_weights=True)])"
   ]
  },
  {
   "cell_type": "code",
   "execution_count": 65,
   "metadata": {},
   "outputs": [
    {
     "data": {
      "image/png": "[encoded data removed]",
      "text/plain": [
       "<Figure size 640x480 with 1 Axes>"
      ]
     },
     "metadata": {},
     "output_type": "display_data"
    }
   ],
   "source": [
    "import matplotlib.pyplot as plt\n",
    "\n",
    "plt.plot(history.history['loss'], label='Training Loss')\n",
    "plt.plot(history.history['val_loss'], label='Validation Loss')\n",
    "plt.legend()\n",
    "plt.show()"
   ]
  },
  {
   "cell_type": "code",
   "execution_count": 66,
   "metadata": {},
   "outputs": [
    {
     "name": "stdout",
     "output_type": "stream",
     "text": [
      "20/20 [==============================] - 0s 10ms/step - loss: 0.9969 - accuracy: 0.7093\n",
      "Test Loss: 0.9969, Test Accuracy: 0.7093\n"
     ]
    }
   ],
   "source": [
    "test_loss, test_acc = model.evaluate(X_test, y_test)\n",
    "print(f'Test Loss: {test_loss:.4f}, Test Accuracy: {test_acc:.4f}')"
   ]
  },
  {
   "cell_type": "code",
   "execution_count": 68,
   "metadata": {},
   "outputs": [],
   "source": [
    "model.save('../models/imu_rnn_classifier.keras')"
   ]
  }
 ],
 "metadata": {
  "kernelspec": {
   "display_name": "Python 3",
   "language": "python",
   "name": "python3"
  },
  "language_info": {
   "codemirror_mode": {
    "name": "ipython",
    "version": 3
   },
   "file_extension": ".py",
   "mimetype": "text/x-python",
   "name": "python",
   "nbconvert_exporter": "python",
   "pygments_lexer": "ipython3",
   "version": "3.10.11"
  }
 },
 "nbformat": 4,
 "nbformat_minor": 2
}
