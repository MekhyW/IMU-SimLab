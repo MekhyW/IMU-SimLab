{
 "cells": [
  {
   "cell_type": "code",
   "execution_count": 1,
   "metadata": {},
   "outputs": [],
   "source": [
    "import pandas as pd\n",
    "\n",
    "df_dance = pd.read_csv('../data/dataset_0.csv')\n",
    "df_idle = pd.read_csv('../data/dataset_1.csv')\n",
    "df_walk = pd.read_csv('../data/dataset_2.csv')\n",
    "df_run = pd.read_csv('../data/dataset_3.csv')\n",
    "df_spin = pd.read_csv('../data/dataset_4.csv')"
   ]
  }
 ],
 "metadata": {
  "kernelspec": {
   "display_name": "Python 3",
   "language": "python",
   "name": "python3"
  },
  "language_info": {
   "codemirror_mode": {
    "name": "ipython",
    "version": 3
   },
   "file_extension": ".py",
   "mimetype": "text/x-python",
   "name": "python",
   "nbconvert_exporter": "python",
   "pygments_lexer": "ipython3",
   "version": "3.10.11"
  }
 },
 "nbformat": 4,
 "nbformat_minor": 2
}
