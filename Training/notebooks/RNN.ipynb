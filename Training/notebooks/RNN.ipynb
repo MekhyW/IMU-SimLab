{
 "cells": [
  {
   "cell_type": "code",
   "execution_count": 13,
   "metadata": {},
   "outputs": [],
   "source": [
    "import pandas as pd\n",
    "\n",
    "df_dance = pd.read_csv('../data/dataset_0.csv')\n",
    "df_idle = pd.read_csv('../data/dataset_1.csv')\n",
    "df_walk = pd.read_csv('../data/dataset_2.csv')\n",
    "df_run = pd.read_csv('../data/dataset_3.csv')\n",
    "df_spin = pd.read_csv('../data/dataset_4.csv')"
   ]
  },
  {
   "cell_type": "code",
   "execution_count": 14,
   "metadata": {},
   "outputs": [],
   "source": [
    "df = pd.concat([df_dance, df_idle, df_walk, df_run, df_spin])\n",
    "df.rename(columns={'Set': 'Label'}, inplace=True)\n",
    "df.drop(columns=['OrientationX_sin', 'OrientationX_cos', 'OrientationY_sin', 'OrientationY_cos', 'OrientationZ_sin', 'OrientationZ_cos'], inplace=True) #Let´s try to use only accelerometer and gyroscope at least for now"
   ]
  },
  {
   "cell_type": "code",
   "execution_count": 15,
   "metadata": {},
   "outputs": [
    {
     "data": {
      "text/html": [
       "<div>\n",
       "<style scoped>\n",
       "    .dataframe tbody tr th:only-of-type {\n",
       "        vertical-align: middle;\n",
       "    }\n",
       "\n",
       "    .dataframe tbody tr th {\n",
       "        vertical-align: top;\n",
       "    }\n",
       "\n",
       "    .dataframe thead th {\n",
       "        text-align: right;\n",
       "    }\n",
       "</style>\n",
       "<table border=\"1\" class=\"dataframe\">\n",
       "  <thead>\n",
       "    <tr style=\"text-align: right;\">\n",
       "      <th></th>\n",
       "      <th>Label</th>\n",
       "      <th>AnimIndex</th>\n",
       "      <th>AccelerationX</th>\n",
       "      <th>AccelerationY</th>\n",
       "      <th>AccelerationZ</th>\n",
       "      <th>GyroscopeX</th>\n",
       "      <th>GyroscopeY</th>\n",
       "      <th>GyroscopeZ</th>\n",
       "    </tr>\n",
       "  </thead>\n",
       "  <tbody>\n",
       "    <tr>\n",
       "      <th>0</th>\n",
       "      <td>Dance</td>\n",
       "      <td>0</td>\n",
       "      <td>-0.029801</td>\n",
       "      <td>0.106064</td>\n",
       "      <td>0.015994</td>\n",
       "      <td>0.164124</td>\n",
       "      <td>-0.018282</td>\n",
       "      <td>-0.041787</td>\n",
       "    </tr>\n",
       "    <tr>\n",
       "      <th>1</th>\n",
       "      <td>Dance</td>\n",
       "      <td>0</td>\n",
       "      <td>39.974822</td>\n",
       "      <td>-103.035792</td>\n",
       "      <td>-41.127805</td>\n",
       "      <td>9.177075</td>\n",
       "      <td>0.814839</td>\n",
       "      <td>0.038732</td>\n",
       "    </tr>\n",
       "    <tr>\n",
       "      <th>2</th>\n",
       "      <td>Dance</td>\n",
       "      <td>0</td>\n",
       "      <td>39.993631</td>\n",
       "      <td>-103.234790</td>\n",
       "      <td>-40.895767</td>\n",
       "      <td>8.912522</td>\n",
       "      <td>0.704715</td>\n",
       "      <td>-0.185318</td>\n",
       "    </tr>\n",
       "    <tr>\n",
       "      <th>3</th>\n",
       "      <td>Dance</td>\n",
       "      <td>0</td>\n",
       "      <td>-34.561648</td>\n",
       "      <td>103.504571</td>\n",
       "      <td>40.498262</td>\n",
       "      <td>-0.039133</td>\n",
       "      <td>-1.434110</td>\n",
       "      <td>-0.152650</td>\n",
       "    </tr>\n",
       "    <tr>\n",
       "      <th>4</th>\n",
       "      <td>Dance</td>\n",
       "      <td>0</td>\n",
       "      <td>0.560703</td>\n",
       "      <td>-4.028138</td>\n",
       "      <td>-0.039327</td>\n",
       "      <td>-0.488945</td>\n",
       "      <td>-0.616965</td>\n",
       "      <td>0.132907</td>\n",
       "    </tr>\n",
       "  </tbody>\n",
       "</table>\n",
       "</div>"
      ],
      "text/plain": [
       "   Label  AnimIndex  AccelerationX  AccelerationY  AccelerationZ  GyroscopeX  \\\n",
       "0  Dance          0      -0.029801       0.106064       0.015994    0.164124   \n",
       "1  Dance          0      39.974822    -103.035792     -41.127805    9.177075   \n",
       "2  Dance          0      39.993631    -103.234790     -40.895767    8.912522   \n",
       "3  Dance          0     -34.561648     103.504571      40.498262   -0.039133   \n",
       "4  Dance          0       0.560703      -4.028138      -0.039327   -0.488945   \n",
       "\n",
       "   GyroscopeY  GyroscopeZ  \n",
       "0   -0.018282   -0.041787  \n",
       "1    0.814839    0.038732  \n",
       "2    0.704715   -0.185318  \n",
       "3   -1.434110   -0.152650  \n",
       "4   -0.616965    0.132907  "
      ]
     },
     "execution_count": 15,
     "metadata": {},
     "output_type": "execute_result"
    }
   ],
   "source": [
    "df.head()"
   ]
  },
  {
   "cell_type": "code",
   "execution_count": 16,
   "metadata": {},
   "outputs": [],
   "source": [
    "from sklearn.preprocessing import StandardScaler\n",
    "\n",
    "feature_cols = ['AccelerationX', 'AccelerationY', 'AccelerationZ', 'GyroscopeX', 'GyroscopeY', 'GyroscopeZ']\n",
    "scaler = StandardScaler()\n",
    "df[feature_cols] = scaler.fit_transform(df[feature_cols])"
   ]
  },
  {
   "cell_type": "code",
   "execution_count": 17,
   "metadata": {},
   "outputs": [],
   "source": [
    "import numpy as np\n",
    "\n",
    "def create_sliding_windows(data, label_col, window_size, step_size):\n",
    "    sequences = []\n",
    "    labels = []\n",
    "    for start in range(0, len(data) - window_size + 1, step_size):\n",
    "        end = start + window_size\n",
    "        window = data.iloc[start:end]\n",
    "        sequences.append(window[feature_cols].values)\n",
    "        label = window[label_col].mode()[0]\n",
    "        labels.append(label)\n",
    "    return np.array(sequences), np.array(labels)\n",
    "\n",
    "window_size = 100\n",
    "step_size = 25\n",
    "X, y = create_sliding_windows(df, label_col='Label', window_size=window_size, step_size=step_size)"
   ]
  },
  {
   "cell_type": "code",
   "execution_count": 18,
   "metadata": {},
   "outputs": [],
   "source": [
    "from sklearn.model_selection import train_test_split\n",
    "\n",
    "train_indices, temp_indices = train_test_split(df['AnimIndex'].unique(), test_size=0.3, random_state=42)\n",
    "val_indices, test_indices = train_test_split(temp_indices, test_size=0.5, random_state=42)\n",
    "\n",
    "train_data = df[df['AnimIndex'].isin(train_indices)]\n",
    "val_data = df[df['AnimIndex'].isin(val_indices)]\n",
    "test_data = df[df['AnimIndex'].isin(test_indices)]\n",
    "\n",
    "X_train, y_train = create_sliding_windows(train_data, label_col='Label', window_size=window_size, step_size=step_size)\n",
    "X_val, y_val = create_sliding_windows(val_data, label_col='Label', window_size=window_size, step_size=step_size)\n",
    "X_test, y_test = create_sliding_windows(test_data, label_col='Label', window_size=window_size, step_size=step_size)"
   ]
  },
  {
   "cell_type": "code",
   "execution_count": 19,
   "metadata": {},
   "outputs": [],
   "source": [
    "from sklearn.preprocessing import LabelEncoder\n",
    "\n",
    "label_encoder = LabelEncoder()\n",
    "y_train = label_encoder.fit_transform(y_train)\n",
    "y_val = label_encoder.transform(y_val)\n",
    "y_test = label_encoder.transform(y_test)"
   ]
  },
  {
   "cell_type": "code",
   "execution_count": 20,
   "metadata": {},
   "outputs": [],
   "source": [
    "from tensorflow.keras.utils import to_categorical\n",
    "\n",
    "y_train = to_categorical(y_train)\n",
    "y_val = to_categorical(y_val)\n",
    "y_test = to_categorical(y_test)"
   ]
  },
  {
   "cell_type": "code",
   "execution_count": 21,
   "metadata": {},
   "outputs": [
    {
     "name": "stdout",
     "output_type": "stream",
     "text": [
      "Model: \"sequential_1\"\n",
      "_________________________________________________________________\n",
      " Layer (type)                Output Shape              Param #   \n",
      "=================================================================\n",
      " lstm_1 (LSTM)               (None, 64)                18176     \n",
      "                                                                 \n",
      " dense_2 (Dense)             (None, 64)                4160      \n",
      "                                                                 \n",
      " dense_3 (Dense)             (None, 5)                 325       \n",
      "                                                                 \n",
      "=================================================================\n",
      "Total params: 22,661\n",
      "Trainable params: 22,661\n",
      "Non-trainable params: 0\n",
      "_________________________________________________________________\n"
     ]
    }
   ],
   "source": [
    "from tensorflow.keras.models import Sequential\n",
    "from tensorflow.keras.layers import LSTM, Dense\n",
    "\n",
    "model = Sequential([\n",
    "    LSTM(64, input_shape=(window_size, len(feature_cols)), return_sequences=False),\n",
    "    Dense(64, activation='relu'),\n",
    "    Dense(5, activation='softmax')\n",
    "])\n",
    "model.compile(optimizer='adam', loss='categorical_crossentropy', metrics=['accuracy'])\n",
    "model.summary()"
   ]
  },
  {
   "cell_type": "code",
   "execution_count": 22,
   "metadata": {},
   "outputs": [
    {
     "name": "stdout",
     "output_type": "stream",
     "text": [
      "Epoch 1/10\n",
      "106/106 [==============================] - 3s 21ms/step - loss: 1.0301 - accuracy: 0.6146 - val_loss: 0.8526 - val_accuracy: 0.7147\n",
      "Epoch 2/10\n",
      "106/106 [==============================] - 2s 18ms/step - loss: 0.8591 - accuracy: 0.6324 - val_loss: 0.7803 - val_accuracy: 0.7163\n",
      "Epoch 3/10\n",
      "106/106 [==============================] - 2s 18ms/step - loss: 0.7684 - accuracy: 0.7167 - val_loss: 0.6058 - val_accuracy: 0.8257\n",
      "Epoch 4/10\n",
      "106/106 [==============================] - 2s 19ms/step - loss: 0.6831 - accuracy: 0.7735 - val_loss: 0.5771 - val_accuracy: 0.8621\n",
      "Epoch 5/10\n",
      "106/106 [==============================] - 2s 18ms/step - loss: 0.6569 - accuracy: 0.7928 - val_loss: 0.5817 - val_accuracy: 0.8605\n",
      "Epoch 6/10\n",
      "106/106 [==============================] - 2s 18ms/step - loss: 0.6076 - accuracy: 0.8135 - val_loss: 0.5169 - val_accuracy: 0.8796\n",
      "Epoch 7/10\n",
      "106/106 [==============================] - 2s 18ms/step - loss: 0.5598 - accuracy: 0.8281 - val_loss: 0.4728 - val_accuracy: 0.8796\n",
      "Epoch 8/10\n",
      "106/106 [==============================] - 2s 19ms/step - loss: 0.5043 - accuracy: 0.8420 - val_loss: 0.4207 - val_accuracy: 0.8922\n",
      "Epoch 9/10\n",
      "106/106 [==============================] - 2s 18ms/step - loss: 0.4928 - accuracy: 0.8465 - val_loss: 0.4731 - val_accuracy: 0.8796\n",
      "Epoch 10/10\n",
      "106/106 [==============================] - 2s 18ms/step - loss: 0.4965 - accuracy: 0.8495 - val_loss: 0.4693 - val_accuracy: 0.8716\n"
     ]
    }
   ],
   "source": [
    "history = model.fit(X_train, y_train, epochs=10, batch_size=32, validation_data=(X_val, y_val))"
   ]
  },
  {
   "cell_type": "code",
   "execution_count": 23,
   "metadata": {},
   "outputs": [
    {
     "data": {
      "image/png": "[encoded data removed]",
      "text/plain": [
       "<Figure size 640x480 with 1 Axes>"
      ]
     },
     "metadata": {},
     "output_type": "display_data"
    }
   ],
   "source": [
    "import matplotlib.pyplot as plt\n",
    "\n",
    "plt.plot(history.history['loss'], label='Training Loss')\n",
    "plt.plot(history.history['val_loss'], label='Validation Loss')\n",
    "plt.legend()\n",
    "plt.show()"
   ]
  },
  {
   "cell_type": "code",
   "execution_count": 24,
   "metadata": {},
   "outputs": [
    {
     "name": "stdout",
     "output_type": "stream",
     "text": [
      "13/13 [==============================] - 0s 7ms/step - loss: 1.1806 - accuracy: 0.6585\n",
      "Test Loss: 1.1806, Test Accuracy: 0.6585\n"
     ]
    }
   ],
   "source": [
    "test_loss, test_acc = model.evaluate(X_test, y_test)\n",
    "print(f'Test Loss: {test_loss:.4f}, Test Accuracy: {test_acc:.4f}')"
   ]
  },
  {
   "cell_type": "code",
   "execution_count": 26,
   "metadata": {},
   "outputs": [],
   "source": [
    "model.save('../models/imu_rnn_classifier.keras')"
   ]
  }
 ],
 "metadata": {
  "kernelspec": {
   "display_name": "Python 3",
   "language": "python",
   "name": "python3"
  },
  "language_info": {
   "codemirror_mode": {
    "name": "ipython",
    "version": 3
   },
   "file_extension": ".py",
   "mimetype": "text/x-python",
   "name": "python",
   "nbconvert_exporter": "python",
   "pygments_lexer": "ipython3",
   "version": "3.10.11"
  }
 },
 "nbformat": 4,
 "nbformat_minor": 2
}
